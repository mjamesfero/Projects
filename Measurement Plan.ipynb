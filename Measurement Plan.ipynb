{
 "cells": [
  {
   "cell_type": "markdown",
   "metadata": {},
   "source": [
    "# Measurement Plan\n",
    "## Calibration\n",
    "To calibrate, once I have assembled my mosaic, I am going to compare it to a finder chart of NGC 2244 and attempt to find a star with know brightness to calibrate the image with. Since my current individual images are a bit small, it is difficult to identify what I'm looking at on a finder chart, so it should be easier when my mosaic is complete.\n",
    "I will demonstrate how I will get the flux of a calibration star by getting the flux of a random star."
   ]
  },
  {
   "cell_type": "code",
   "execution_count": 1,
   "metadata": {},
   "outputs": [],
   "source": [
    "import numpy as np\n",
    "import pylab as pl\n",
    "sigma_to_fwhm = np.sqrt(8*np.log(2))\n",
    "def photometry_and_astrometry(image, star_center, cutout_width,\n",
    "                              estimated_dark_current=4, background=None,\n",
    "                              pixel_uncertainty_estimate=None,\n",
    "                              threshold=2,\n",
    "                              show_cutout=False,  \n",
    "                             ):    \n",
    "    # blyc = bottom-left y-coordinate    \n",
    "    # tryc = top-right y-coordinate    \n",
    "    blyc = star_center[0]-cutout_width[0]//2\n",
    "    tryc = star_center[0]+cutout_width[0]//2\n",
    "    blxc = star_center[1]-cutout_width[1]//2\n",
    "    trxc = star_center[1]+cutout_width[1]//2\n",
    "    star_cutout = image[blyc:tryc, blxc:trxc]\n",
    "    # Key modification    \n",
    "    # image < 2*sigma    \n",
    "    star_cutout_mask = star_cutout < threshold*pixel_uncertainty_estimate\n",
    "    if show_cutout:\n",
    "        pl.figure()\n",
    "        pl.imshow(star_cutout)\n",
    "        pl.colorbar()    \n",
    "        \n",
    "    yc, xc = np.indices(star_cutout.shape)\n",
    "    mom1_x = (xc * star_cutout).sum() / star_cutout.sum()\n",
    "    mom1_y = (yc * star_cutout).sum() / star_cutout.sum()\n",
    "    mom2_x = ((xc - mom1_x)**2 * star_cutout).sum() / star_cutout.sum()\n",
    "    mom2_y = ((yc - mom1_y)**2 * star_cutout).sum() / star_cutout.sum()\n",
    "    fwhm_x = mom2_x**0.5*sigma_to_fwhm\n",
    "    fwhm_y = mom2_y**0.5*sigma_to_fwhm\n",
    "    star_cutout_including_background = star_cutout + background + estimated_dark_current\n",
    "    readnoise_squared = 100\n",
    "    sigma_squared_F = star_cutout_including_background + readnoise_squared\n",
    "    F = star_cutout\n",
    "    sigma_squared_xi = ((sigma_squared_F * xc**2).sum() / F.sum()**2 +\n",
    "                        (xc*F).sum()**2 * sigma_squared_F.sum() / F.sum()**4)\n",
    "    sigma_squared_yi = ((sigma_squared_F * yc**2).sum() / F.sum()**2 +\n",
    "                        (yc*F).sum()**2 * sigma_squared_F.sum() / F.sum()**4)\n",
    "    mom1_x_uncertainty = sigma_squared_xi**0.5\n",
    "    mom1_y_uncertainty = sigma_squared_yi**0.5\n",
    "    total_flux = star_cutout.sum()\n",
    "    total_flux_uncertainty = (star_cutout + pixel_uncertainty_estimate**2 + readnoise_squared).sum()**0.5\n",
    "    # in the steps above, we wanted to _include_ the star.  Now, in the whole image, we want to _exclude_ it!    \n",
    "    star_cutout_mask = ~star_cutout_mask    \n",
    "    # note that we want the coordinates in the original frame!    \n",
    "    return (total_flux, total_flux_uncertainty, mom1_x+blxc, mom1_y+blyc,\n",
    "            mom1_x_uncertainty, mom1_y_uncertainty, fwhm_x, fwhm_y)"
   ]
  },
  {
   "cell_type": "code",
   "execution_count": 2,
   "metadata": {},
   "outputs": [
    {
     "data": {
      "text/plain": [
       "(2605961.4810937555,\n",
       " 1641.938330478266,\n",
       " 73.16013586962137,\n",
       " 249.82376491366918,\n",
       " 0.013936093232986257,\n",
       " 0.01457853511144033,\n",
       " 7.768957952308102,\n",
       " 9.442575715459823)"
      ]
     },
     "execution_count": 2,
     "metadata": {},
     "output_type": "execute_result"
    }
   ],
   "source": [
    "import glob\n",
    "from astropy.io import fits\n",
    "image = glob.glob(\"example.fits\")\n",
    "example = [fits.getdata(fn) for fn in image][0]\n",
    "\n",
    "exampleflux = photometry_and_astrometry(example, (249,73), (30,30),\n",
    "                              estimated_dark_current=0, background=100,\n",
    "                              pixel_uncertainty_estimate=0,\n",
    "                              threshold=2,\n",
    "                              show_cutout=False,  \n",
    "                              )\n",
    "exampleflux"
   ]
  },
  {
   "cell_type": "markdown",
   "metadata": {},
   "source": [
    "## Stellar Flux per Pixel\n",
    "To make the pixel by pixel, color-color plot, I'm going to take my assembled mosaics for each filter, take their data, and create a plot using the code in the notebook."
   ]
  },
  {
   "cell_type": "markdown",
   "metadata": {},
   "source": [
    "I don't really know what to write for this one. I'm nowhere near being ready to work on it tonight. "
   ]
  },
  {
   "cell_type": "markdown",
   "metadata": {},
   "source": [
    "## Compose an RGB \n",
    "First, I will create a mosaic with all 6 images in each filter. Since I alright aligned each filter within an image, this speeds up the process since I will realistically only have to go through the process of coordinating how to mosaic the images together once and will not have to align the final images (hopefully). Then I will use make_lupton_rgb to make a color image."
   ]
  },
  {
   "cell_type": "markdown",
   "metadata": {},
   "source": [
    "While I have do have 2 images mosaiced together in each filter, it is not necessary for me to include the code for that since it wasn't one of the things you asked for. I hope you accept the numerous screenshots I sent while asking you for help as proof that I have gotten some mosaicing done."
   ]
  }
 ],
 "metadata": {
  "kernelspec": {
   "display_name": "Python 3",
   "language": "python",
   "name": "python3"
  },
  "language_info": {
   "codemirror_mode": {
    "name": "ipython",
    "version": 3
   },
   "file_extension": ".py",
   "mimetype": "text/x-python",
   "name": "python",
   "nbconvert_exporter": "python",
   "pygments_lexer": "ipython3",
   "version": "3.7.4"
  }
 },
 "nbformat": 4,
 "nbformat_minor": 2
}
