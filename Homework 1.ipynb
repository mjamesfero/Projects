{
 "cells": [
  {
   "cell_type": "code",
   "execution_count": 1,
   "metadata": {},
   "outputs": [],
   "source": [
    "from astropy.table import Table\n",
    "from astropy import units as u\n",
    "import numpy as np\n",
    "import pandas \n",
    "import csv \n",
    "#No real point in transcribing data multiple times so morgan and I shared this csv\n",
    "csvFile = pandas.read_csv('AST4300_PS1_DataTable.csv')\n",
    "data = []\n",
    "for ii, xval in enumerate(csvFile['ProperMotion']):\n",
    "    radv = csvFile['RadialVelocity'][ii]\n",
    "    mid = csvFile['MinimumDistance'][ii]\n",
    "    row = {'ProperMotion': xval*u.arcsec/u.yr,\n",
    "          'RadialVelocity': radv*u.km/u.s,\n",
    "          'MinimumDistance': mid*u.lyr,\n",
    "          'TangentialVelocity': 4.74*radv*mid*u.km/u.s,\n",
    "          'TotalVelocity': np.sqrt((4.74*radv*mid)**2+radv**2)*u.km/u.s,\n",
    "          'plot': np.sqrt((4.74*radv*mid)**2+radv**2)}\n",
    "    data.append(row)\n",
    "tbl = Table(data)"
   ]
  },
  {
   "cell_type": "code",
   "execution_count": 7,
   "metadata": {},
   "outputs": [
    {
     "name": "stdout",
     "output_type": "stream",
     "text": [
      "RadialVelocity\n",
      "--------------\n",
      "    3.0 km / s\n",
      "   10.0 km / s\n",
      "   12.0 km / s\n",
      "  -16.0 km / s\n",
      "   87.0 km / s\n",
      "   16.0 km / s\n",
      "  -42.0 km / s\n",
      "  242.0 km / s\n",
      "   -8.0 km / s\n",
      "   -4.0 km / s\n",
      "   10.0 km / s\n",
      "  -30.0 km / s\n",
      "  -87.0 km / s\n",
      "   65.0 km / s\n",
      "   22.0 km / s\n",
      "    4.0 km / s\n",
      "   20.0 km / s\n",
      "   -4.0 km / s\n",
      "  -80.0 km / s\n",
      "   26.0 km / s\n",
      "  -33.0 km / s\n",
      "  -64.0 km / s\n",
      "   13.0 km / s\n",
      "  -39.0 km / s\n",
      "   12.0 km / s\n",
      "   26.0 km / s\n",
      "    TangentialVelocity    \n",
      "--------------------------\n",
      "            164.952 km / s\n",
      "  810.5400000000002 km / s\n",
      "            807.696 km / s\n",
      "           -667.392 km / s\n",
      "           6103.224 km / s\n",
      "  538.4639999999999 km / s\n",
      "          -2826.936 km / s\n",
      "           5505.984 km / s\n",
      "            -303.36 km / s\n",
      "           -193.392 km / s\n",
      "             966.96 km / s\n",
      "-2019.2400000000002 km / s\n",
      "          -1773.234 km / s\n",
      "            4559.88 km / s\n",
      "            333.696 km / s\n",
      "            280.608 km / s\n",
      " 1621.0800000000004 km / s\n",
      "           -364.032 km / s\n",
      "-1782.2400000000002 km / s\n",
      "           1750.008 km / s\n",
      "-1001.0880000000002 km / s\n",
      "          -2608.896 km / s\n",
      "            776.412 km / s\n",
      "-1941.0300000000002 km / s\n",
      "            637.056 km / s\n",
      " 1823.9520000000002 km / s\n",
      "      TotalVelocity      \n",
      "-------------------------\n",
      "164.97927840792613 km / s\n",
      " 810.6016849229961 km / s\n",
      " 807.7851375310145 km / s\n",
      " 667.5837637809956 km / s\n",
      "  6103.84405061073 km / s\n",
      " 538.7016607511061 km / s\n",
      " 2827.247981358551 km / s\n",
      "5511.2996478377045 km / s\n",
      "303.46546689862424 km / s\n",
      "193.43336233442253 km / s\n",
      " 967.0117070646043 km / s\n",
      "2019.4628438275365 km / s\n",
      "1775.3669532679714 km / s\n",
      " 4560.343256203419 km / s\n",
      " 334.4204246394051 km / s\n",
      "280.63650807405656 km / s\n",
      "1621.2033698459923 km / s\n",
      " 364.0539754267216 km / s\n",
      "1784.0345897992001 km / s\n",
      "1750.2011313171981 km / s\n",
      "1001.6317605507527 km / s\n",
      "  2609.68088831106 km / s\n",
      " 776.5208263427324 km / s\n",
      "1941.4217627553269 km / s\n",
      " 637.1690098678686 km / s\n",
      "1824.1373024813677 km / s\n"
     ]
    }
   ],
   "source": [
    "tbl['RadialVelocity'].pprint(max_lines=-1)\n",
    "tbl['TangentialVelocity'].pprint(max_lines=-1)\n",
    "tbl['TotalVelocity'].pprint(max_lines=-1)"
   ]
  },
  {
   "cell_type": "code",
   "execution_count": 11,
   "metadata": {
    "scrolled": false
   },
   "outputs": [
    {
     "data": {
      "text/plain": [
       "Text(0.5, 1.0, 'Distribution of Velocities')"
      ]
     },
     "execution_count": 11,
     "metadata": {},
     "output_type": "execute_result"
    },
    {
     "data": {
      "image/png": "[encoded data removed]",
      "text/plain": [
       "<Figure size 432x288 with 1 Axes>"
      ]
     },
     "metadata": {
      "needs_background": "light"
     },
     "output_type": "display_data"
    }
   ],
   "source": [
    "import matplotlib.pyplot as plt\n",
    "\n",
    "n, bins, patches = plt.hist(x=tbl['plot'], bins='auto')#, color='#0504aa')\n",
    "plt.grid(axis='y', alpha=0.75)\n",
    "plt.xlabel('Total Velocity (km/s)')\n",
    "plt.ylabel('Frequency')\n",
    "plt.title('Distribution of Velocities')"
   ]
  },
  {
   "cell_type": "code",
   "execution_count": 10,
   "metadata": {},
   "outputs": [
    {
     "name": "stdout",
     "output_type": "stream",
     "text": [
      "[ 164.97927841 1013.38853158 1861.79778475 2710.20703792 3558.6162911\n",
      " 4407.02554427 5255.43479744 6103.84405061]\n"
     ]
    }
   ],
   "source": [
    "print(bins)"
   ]
  },
  {
   "cell_type": "code",
   "execution_count": null,
   "metadata": {},
   "outputs": [],
   "source": []
  }
 ],
 "metadata": {
  "kernelspec": {
   "display_name": "Python 3",
   "language": "python",
   "name": "python3"
  },
  "language_info": {
   "codemirror_mode": {
    "name": "ipython",
    "version": 3
   },
   "file_extension": ".py",
   "mimetype": "text/x-python",
   "name": "python",
   "nbconvert_exporter": "python",
   "pygments_lexer": "ipython3",
   "version": "3.7.4"
  }
 },
 "nbformat": 4,
 "nbformat_minor": 2
}
